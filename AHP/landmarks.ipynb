{
 "cells": [
  {
   "cell_type": "code",
   "execution_count": 6,
   "metadata": {},
   "outputs": [
    {
     "name": "stdout",
     "output_type": "stream",
     "text": [
      "<location.Location object at 0x7fc6449b2710>\n"
     ]
    }
   ],
   "source": [
    "import importlib.util\n",
    "path_to_module = \"/home/user1/Documents/school/math402/translink/optimizationResearch/optimization/location.py\"\n",
    "spec = importlib.util.spec_from_file_location(\"location\", path_to_module)\n",
    "lc = importlib.util.module_from_spec(spec)\n",
    "spec.loader.exec_module(lc)\n",
    "\n",
    "# position coords\n",
    "lat = 51\n",
    "long = 0\n",
    "id = 10    # can be a string\n",
    "# no neighbors so just empty list\n",
    "neighbors = []\n",
    "# init location\n",
    "myLocation = lc.Location(lat, long, id, neighbors)\n",
    "print(myLocation)"
   ]
  }
 ],
 "metadata": {
  "kernelspec": {
   "display_name": "Python 3",
   "language": "python",
   "name": "python3"
  },
  "language_info": {
   "codemirror_mode": {
    "name": "ipython",
    "version": 3
   },
   "file_extension": ".py",
   "mimetype": "text/x-python",
   "name": "python",
   "nbconvert_exporter": "python",
   "pygments_lexer": "ipython3",
   "version": "3.7.6"
  }
 },
 "nbformat": 4,
 "nbformat_minor": 4
}
