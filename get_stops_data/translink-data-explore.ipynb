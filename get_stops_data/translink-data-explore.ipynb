{
 "cells": [
  {
   "cell_type": "code",
   "execution_count": 1,
   "metadata": {},
   "outputs": [],
   "source": [
    "import pandas as pd\n",
    "import numpy as np\n",
    "import matplotlib.pyplot as plt\n",
    "import seaborn as sn"
   ]
  },
  {
   "cell_type": "markdown",
   "metadata": {},
   "source": [
    "This notebook explores the translink data. "
   ]
  },
  {
   "cell_type": "code",
   "execution_count": 2,
   "metadata": {},
   "outputs": [],
   "source": [
    "dataDir = \"/home/user1/Documents/school/math402/translink/translink-data/project-data/20200124_sfu_stop_data_OCT.csv\"\n",
    "df = pd.read_csv(dataDir)\n",
    "dfNorth = df[df['direction'] == 'NORTH']\n",
    "stopDict = {}\n",
    "\n",
    "for row in dfNorth.iloc:\n",
    "    if row['from_no'] in stopDict:\n",
    "        if row['time_period'] == 'PM Peak' or row['time_period'] == 'AM Peak':\n",
    "            stopDict[row['from_no']] += row['total_boardings']\n",
    "    else:\n",
    "        stopDict[row['from_no']] = 0\n"
   ]
  },
  {
   "cell_type": "code",
   "execution_count": null,
   "metadata": {},
   "outputs": [],
   "source": [
    "print(len(stopDict))\n",
    "keys = [str(id) for id in stopDict.keys()]\n",
    "fig = plt.figure(figsize=(15,10))\n",
    "plt.bar(keys, stopDict.values(), color='g')\n",
    "plt.xticks(rotation=90)\n",
    "plt.title('October PM and AM peaks boardings, 46 stops NorthBound')\n",
    "plt.show()\n"
   ]
  }
 ],
 "metadata": {
  "kernelspec": {
   "display_name": "Python 3",
   "language": "python",
   "name": "python3"
  },
  "language_info": {
   "codemirror_mode": {
    "name": "ipython",
    "version": 3
   },
   "file_extension": ".py",
   "mimetype": "text/x-python",
   "name": "python",
   "nbconvert_exporter": "python",
   "pygments_lexer": "ipython3",
   "version": "3.7.6"
  }
 },
 "nbformat": 4,
 "nbformat_minor": 4
}
