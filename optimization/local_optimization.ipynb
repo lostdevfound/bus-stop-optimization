{
 "cells": [
  {
   "cell_type": "code",
   "execution_count": 1,
   "metadata": {},
   "outputs": [],
   "source": [
    "import scipy as sci\n",
    "import numpy as np\n",
    "import location as lc"
   ]
  },
  {
   "cell_type": "code",
   "execution_count": 37,
   "metadata": {},
   "outputs": [],
   "source": [
    "stopTop = lc.BusStop(0,0.01,'top-stop001',[],0,0)\n",
    "stopMid = lc.BusStop(0,0,'mid-stop001',[],0,0)\n",
    "stopBot = lc.BusStop(0,-0.01,'bot-stop001',[],0,0)\n",
    "\n",
    "areaTop1 = lc.Block(0.005, 0.01, 'top-area001', 100, 100, [])\n",
    "areaTop2 = lc.Block(-0.005, 0.01, 'top-area002', 100, 100, [])\n",
    "\n",
    "areaMid1 = lc.Block(0.005, 0, 'mid-area001', 100, 100, [])\n",
    "areaMid2 = lc.Block(-0.005, 0, 'mid-area002', 100, 100, [])\n",
    "\n",
    "areaBot1 = lc.Block(0.005, -0.01, 'bot-area001', 100, 100, [])\n",
    "areaBot2 = lc.Block(-0.005, -0.01, 'bot-area002', 100, 100, [])"
   ]
  },
  {
   "cell_type": "code",
   "execution_count": 61,
   "metadata": {},
   "outputs": [
    {
     "name": "stdout",
     "output_type": "stream",
     "text": [
      "busStop id:top-stop001 [block id:top-area001, block id:top-area002]\n",
      "busStop id:mid-stop001 [block id:mid-area001, block id:mid-area002]\n",
      "busStop id:bot-stop001 [block id:bot-area001, block id:bot-area002]\n"
     ]
    }
   ],
   "source": [
    "stops = [stopTop, stopMid, stopBot]\n",
    "areas = [areaTop1, areaTop2, areaMid1, areaMid2, areaBot1, areaBot2]\n",
    "\n",
    "# populate area neighborhood with nearby stops\n",
    "for area in areas:\n",
    "    area.findNeighbors(stops, 0.6)\n",
    "#     print(area,area.neighborhood)\n",
    "\n",
    "for stop in stops:\n",
    "    stop.findNeighbors(areas, 0.6)\n",
    "#     print(stop,stop.neighborhood)\n",
    "\n",
    "for stop in stops:\n",
    "    stop.findCompetitors(stops, 1.2)\n",
    "#     print(stop.competitors)\n",
    "\n"
   ]
  },
  {
   "cell_type": "code",
   "execution_count": 146,
   "metadata": {},
   "outputs": [
    {
     "data": {
      "image/png": "[encoded data removed]",
      "text/plain": [
       "<Figure size 432x288 with 1 Axes>"
      ]
     },
     "metadata": {
      "needs_background": "light"
     },
     "output_type": "display_data"
    }
   ],
   "source": [
    "from scipy.optimize import minimize\n",
    "from scipy.optimize import NonlinearConstraint\n",
    "import geopy\n",
    "from matplotlib import pyplot as plt\n",
    "\n",
    "\n",
    "def dist(set1, set2):\n",
    "    \"\"\" Measrue geodesic distance in kilometers between to pairs of coordinates.\"\"\"\n",
    "    return geopy.distance.distance(set1,set2).km\n",
    "\n",
    "\n",
    "def f(t, stopA, stopB):\n",
    "    \"\"\" A function of a variable t. A segment from stopA to stopB\"\"\"\n",
    "    lat = (stopB.lat - stopA.lat)*t + stopA.lat\n",
    "    long = (stopB.long - stopA.long)*t + stopA.long\n",
    "    return (lat,long)\n",
    "\n",
    "STOP_TO_MOVE = stopTop\n",
    "STOP_REMOVED = stopMid\n",
    "\n",
    "def constraint_func(t):\n",
    "    \"\"\" returns an array of non lin constrains. \n",
    "    STOP_TO_MOVE, STOP_REMOVED need to be globally defined \"\"\"\n",
    "    A = []\n",
    "    \n",
    "    for area in STOP_TO_MOVE.neighborhood:\n",
    "        A.append(dist(f(t, STOP_TO_MOVE, STOP_REMOVED), area.get_pos()))\n",
    "        \n",
    "    return A\n",
    "\n",
    "\n",
    "def obj_func(t):\n",
    "    Z = 0\n",
    "    \n",
    "    for area in STOP_REMOVED.neighborhood:\n",
    "        Z += dist(area.get_pos(), f(t,STOP_TO_MOVE, STOP_REMOVED))\n",
    "    \n",
    "    return Z\n",
    "\n",
    "\n",
    "nonLinConst = NonlinearConstraint(constraint_func, 0, 0.7)\n",
    "\n",
    "t0 = 0\n",
    "res = minimize(obj_func, t0, method='trust-constr', constraints=[nonLinConst])\n",
    "res.x\n",
    "\n",
    "STOP_TO_MOVE_pos = STOP_TO_MOVE.get_pos()\n",
    "STOP_REMOVED_pos = STOP_REMOVED.get_pos()\n",
    "new_stop_pos = (f(res.x, STOP_TO_MOVE, STOP_REMOVED)[0], f(res.x, STOP_TO_MOVE, STOP_REMOVED)[1])\n",
    "plt.scatter(STOP_TO_MOVE_pos[0],STOP_TO_MOVE_pos[1])\n",
    "plt.scatter(STOP_REMOVED_pos[0],STOP_REMOVED_pos[1])\n",
    "plt.scatter(new_stop_pos[0],new_stop_pos[1], marker='x')\n",
    "\n",
    "for area in STOP_TO_MOVE.neighborhood:\n",
    "    plt.scatter(area.get_pos()[0],area.get_pos()[1], marker='^')\n"
   ]
  },
  {
   "cell_type": "code",
   "execution_count": null,
   "metadata": {},
   "outputs": [],
   "source": []
  }
 ],
 "metadata": {
  "kernelspec": {
   "display_name": "Python 3",
   "language": "python",
   "name": "python3"
  },
  "language_info": {
   "codemirror_mode": {
    "name": "ipython",
    "version": 3
   },
   "file_extension": ".py",
   "mimetype": "text/x-python",
   "name": "python",
   "nbconvert_exporter": "python",
   "pygments_lexer": "ipython3",
   "version": "3.7.6"
  }
 },
 "nbformat": 4,
 "nbformat_minor": 2
}
